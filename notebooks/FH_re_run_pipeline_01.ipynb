{
 "cells": [
  {
   "cell_type": "code",
   "execution_count": 21,
   "metadata": {},
   "outputs": [],
   "source": [
    "import os\n",
    "import sys\n",
    "import numpy as np\n",
    "\n",
    "ROOT = os.path.dirname(os.getcwd())\n",
    "sys.path.insert(0, ROOT)\n",
    "path = os.path.join(os.getcwd(), \"../data\")"
   ]
  },
  {
   "cell_type": "code",
   "execution_count": 2,
   "metadata": {},
   "outputs": [],
   "source": [
    "msp_file = os.path.join(path, \"MoNA-export-GC-MS.msp\")"
   ]
  },
  {
   "cell_type": "code",
   "execution_count": 3,
   "metadata": {},
   "outputs": [
    {
     "name": "stdout",
     "output_type": "stream",
     "text": [
      "number of spectrums: 14361\n"
     ]
    }
   ],
   "source": [
    "from matchms.filtering import normalize_intensities\n",
    "from matchms.filtering import reduce_to_number_of_peaks\n",
    "from matchms.filtering import require_minimum_number_of_peaks\n",
    "from matchms.filtering import select_by_mz\n",
    "from matchms.importing import load_from_msp\n",
    "\n",
    "def apply_my_filters(s):\n",
    "    s = normalize_intensities(s)\n",
    "    s = reduce_to_number_of_peaks(s, n_required=10, n_max=100)\n",
    "    s = select_by_mz(s, mz_from=0, mz_to=1000)\n",
    "    s = require_minimum_number_of_peaks(s, n_required=5)\n",
    "    return s\n",
    "\n",
    "spectrums = [apply_my_filters(s) for s in load_from_msp(msp_file)]\n",
    "spectrums = [s for s in spectrums if s is not None]\n",
    "\n",
    "print(\"number of spectrums:\", len(spectrums))"
   ]
  },
  {
   "cell_type": "code",
   "execution_count": 4,
   "metadata": {},
   "outputs": [],
   "source": [
    "from spec2vec import SpectrumDocument\n",
    "\n",
    "reference_documents = [SpectrumDocument(s) for s in spectrums]"
   ]
  },
  {
   "cell_type": "code",
   "execution_count": 5,
   "metadata": {},
   "outputs": [
    {
     "name": "stdout",
     "output_type": "stream",
     "text": [
      "The value of workers is set from 4 (default) to 4\n",
      "  Epoch 1 of 30.Change in loss after epoch 1: 319330.71875\n",
      "  Epoch 2 of 30.Change in loss after epoch 2: 294614.03125\n",
      "  Epoch 3 of 30.Change in loss after epoch 3: 290521.1875\n",
      "  Epoch 4 of 30.Change in loss after epoch 4: 255603.9375\n",
      "  Epoch 5 of 30.Change in loss after epoch 5: 266488.75\n",
      "  Epoch 6 of 30.Change in loss after epoch 6: 248227.125\n",
      "  Epoch 7 of 30.Change in loss after epoch 7: 246471.75\n",
      "  Epoch 8 of 30.Change in loss after epoch 8: 250849.0\n",
      "  Epoch 9 of 30.Change in loss after epoch 9: 238872.25\n",
      "  Epoch 10 of 30.Change in loss after epoch 10: 218278.25\n",
      "Saving model with name: references_MoNA_iter_10.model\n",
      "  Epoch 11 of 30.Change in loss after epoch 11: 219644.0\n",
      "  Epoch 12 of 30.Change in loss after epoch 12: 230599.0\n",
      "  Epoch 13 of 30.Change in loss after epoch 13: 213788.75\n",
      "  Epoch 14 of 30.Change in loss after epoch 14: 242115.75\n",
      "  Epoch 15 of 30.Change in loss after epoch 15: 224038.25\n",
      "  Epoch 16 of 30.Change in loss after epoch 16: 224597.75\n",
      "  Epoch 17 of 30.Change in loss after epoch 17: 222293.5\n",
      "  Epoch 18 of 30.Change in loss after epoch 18: 210177.0\n",
      "  Epoch 19 of 30.Change in loss after epoch 19: 218722.0\n",
      "  Epoch 20 of 30.Change in loss after epoch 20: 209698.5\n",
      "Saving model with name: references_MoNA_iter_20.model\n",
      "  Epoch 21 of 30.Change in loss after epoch 21: 207261.5\n",
      "  Epoch 22 of 30.Change in loss after epoch 22: 209666.5\n",
      "  Epoch 23 of 30.Change in loss after epoch 23: 202009.0\n",
      "  Epoch 24 of 30.Change in loss after epoch 24: 205679.0\n",
      "  Epoch 25 of 30.Change in loss after epoch 25: 208019.0\n",
      "  Epoch 26 of 30.Change in loss after epoch 26: 208690.0\n",
      "  Epoch 27 of 30.Change in loss after epoch 27: 231871.0\n",
      "  Epoch 28 of 30.Change in loss after epoch 28: 205694.0\n",
      "  Epoch 29 of 30.Change in loss after epoch 29: 204075.0\n",
      "  Epoch 30 of 30.Change in loss after epoch 30: 207185.0\n",
      "Saving model with name: references_MoNA.model\n"
     ]
    }
   ],
   "source": [
    "from spec2vec.model_building import train_new_word2vec_model\n",
    "\n",
    "model_file = \"references_MoNA.model\"\n",
    "model = train_new_word2vec_model(documents=reference_documents,\n",
    "                                 filename=model_file, iterations=[10, 20, 30],\n",
    "                                 workers=4, progress_logger=True)"
   ]
  },
  {
   "cell_type": "code",
   "execution_count": 6,
   "metadata": {},
   "outputs": [],
   "source": [
    "import gensim\n",
    "\n",
    "model = gensim.models.Word2Vec.load(model_file)"
   ]
  },
  {
   "cell_type": "code",
   "execution_count": 7,
   "metadata": {},
   "outputs": [],
   "source": [
    "def get_time():\n",
    "    now = datetime.now()\n",
    "    return now.strftime(\"%H:%M:%S\")"
   ]
  },
  {
   "cell_type": "code",
   "execution_count": 8,
   "metadata": {},
   "outputs": [],
   "source": [
    "import time\n",
    "from datetime import datetime\n",
    "from spec2vec import Spec2Vec\n",
    "from matchms import calculate_scores\n",
    "\n",
    "spec2vec = Spec2Vec(model=model, intensity_weighting_power=0.5,\n",
    "                    allowed_missing_percentage=5.0)"
   ]
  },
  {
   "cell_type": "code",
   "execution_count": 10,
   "metadata": {},
   "outputs": [
    {
     "name": "stdout",
     "output_type": "stream",
     "text": [
      "Start 21:08:05\n",
      "Finish 21:08:24\n"
     ]
    }
   ],
   "source": [
    "print(\"Start\", get_time())\n",
    "similarity_matrix = spec2vec.matrix(reference_documents, reference_documents)\n",
    "print(\"Finish\", get_time())"
   ]
  },
  {
   "cell_type": "code",
   "execution_count": 18,
   "metadata": {},
   "outputs": [
    {
     "data": {
      "text/plain": [
       "(14361, 14361)"
      ]
     },
     "execution_count": 18,
     "metadata": {},
     "output_type": "execute_result"
    }
   ],
   "source": [
    "similarity_matrix.shape"
   ]
  },
  {
   "cell_type": "code",
   "execution_count": 19,
   "metadata": {},
   "outputs": [
    {
     "name": "stdout",
     "output_type": "stream",
     "text": [
      "Start 21:18:20\n",
      "Finish scores 21:18:38\n",
      "Shape of score matrix: (14361, 14361)\n"
     ]
    }
   ],
   "source": [
    "from matchms import calculate_scores\n",
    "\n",
    "print(\"Start\", get_time())\n",
    "scores = calculate_scores(reference_documents, reference_documents, spec2vec)\n",
    "print(\"Finish scores\", get_time())\n",
    "\n",
    "print(\"Shape of score matrix:\", scores.scores.shape)"
   ]
  },
  {
   "cell_type": "markdown",
   "metadata": {},
   "source": [
    "### Example of how to get the 10 highest scores for reference[0]"
   ]
  },
  {
   "cell_type": "code",
   "execution_count": 35,
   "metadata": {},
   "outputs": [],
   "source": [
    "index_array = np.argpartition(similarity_matrix[:, 0], -10)[-10:]#, axis=-1)"
   ]
  },
  {
   "cell_type": "code",
   "execution_count": 36,
   "metadata": {},
   "outputs": [
    {
     "data": {
      "text/plain": [
       "array([13711, 12691, 13710, 12690, 11556,  5966, 13709,  5435, 10815,\n",
       "           0], dtype=int64)"
      ]
     },
     "execution_count": 36,
     "metadata": {},
     "output_type": "execute_result"
    }
   ],
   "source": [
    "index_array"
   ]
  },
  {
   "cell_type": "code",
   "execution_count": 38,
   "metadata": {},
   "outputs": [
    {
     "data": {
      "text/plain": [
       "array([0.36647712, 0.36993555, 0.37748032, 0.37931818, 0.37478992,\n",
       "       0.38239878, 0.39283566, 0.40967875, 0.41016526, 1.        ])"
      ]
     },
     "execution_count": 38,
     "metadata": {},
     "output_type": "execute_result"
    }
   ],
   "source": [
    "similarity_matrix[:, 0][index_array]"
   ]
  },
  {
   "cell_type": "markdown",
   "metadata": {},
   "source": [
    "## The looping through 'scores' example we provide in the matchms code examples is not very helpful I realized. It will be very slow!\n",
    "- better use numpy functions as above the ``np.argpartition``\n",
    "- or: use ``scores.scores_by_query`` or ``scores.scores_by_reference`` to do analysis"
   ]
  },
  {
   "cell_type": "code",
   "execution_count": 43,
   "metadata": {},
   "outputs": [
    {
     "name": "stdout",
     "output_type": "stream",
     "text": [
      "Start 21:35:32\n",
      "Finish filtering 21:35:46\n"
     ]
    }
   ],
   "source": [
    "print(\"Start\", get_time())\n",
    "i = 0\n",
    "filtered = []\n",
    "for (reference, query, score) in scores:\n",
    "    if i > 10:\n",
    "        break\n",
    "    if reference != query:\n",
    "        filtered.append((reference, query, score))\n",
    "    i += 1\n",
    "print(\"Finish filtering\", get_time())\n",
    "\n",
    "sorted_by_score = sorted(filtered, key=lambda elem: elem[2], reverse=True)"
   ]
  },
  {
   "cell_type": "code",
   "execution_count": 44,
   "metadata": {},
   "outputs": [
    {
     "data": {
      "text/plain": [
       "[(<spec2vec.SpectrumDocument.SpectrumDocument at 0x2202b122908>,\n",
       "  <spec2vec.SpectrumDocument.SpectrumDocument at 0x22037b19048>,\n",
       "  0.2404680228525137),\n",
       " (<spec2vec.SpectrumDocument.SpectrumDocument at 0x2202b122908>,\n",
       "  <spec2vec.SpectrumDocument.SpectrumDocument at 0x22037b19508>,\n",
       "  0.1565977629618161),\n",
       " (<spec2vec.SpectrumDocument.SpectrumDocument at 0x2202b122908>,\n",
       "  <spec2vec.SpectrumDocument.SpectrumDocument at 0x22037b1b2c8>,\n",
       "  0.08878629694049822),\n",
       " (<spec2vec.SpectrumDocument.SpectrumDocument at 0x2202b122908>,\n",
       "  <spec2vec.SpectrumDocument.SpectrumDocument at 0x22037b1b048>,\n",
       "  0.05156770381845285),\n",
       " (<spec2vec.SpectrumDocument.SpectrumDocument at 0x2202b122908>,\n",
       "  <spec2vec.SpectrumDocument.SpectrumDocument at 0x22037b1d6c8>,\n",
       "  0.03682022147514922),\n",
       " (<spec2vec.SpectrumDocument.SpectrumDocument at 0x2202b122908>,\n",
       "  <spec2vec.SpectrumDocument.SpectrumDocument at 0x22037b1f188>,\n",
       "  0.009745449479609163),\n",
       " (<spec2vec.SpectrumDocument.SpectrumDocument at 0x2202b122908>,\n",
       "  <spec2vec.SpectrumDocument.SpectrumDocument at 0x22037b17588>,\n",
       "  0.0020073637337316135),\n",
       " (<spec2vec.SpectrumDocument.SpectrumDocument at 0x2202b122908>,\n",
       "  <spec2vec.SpectrumDocument.SpectrumDocument at 0x22037b1da08>,\n",
       "  -0.0051115037052887665),\n",
       " (<spec2vec.SpectrumDocument.SpectrumDocument at 0x2202b122908>,\n",
       "  <spec2vec.SpectrumDocument.SpectrumDocument at 0x22037b1f7c8>,\n",
       "  -0.019990339413291498),\n",
       " (<spec2vec.SpectrumDocument.SpectrumDocument at 0x2202b122908>,\n",
       "  <spec2vec.SpectrumDocument.SpectrumDocument at 0x22037b1f048>,\n",
       "  -0.02026074497710804),\n",
       " (<spec2vec.SpectrumDocument.SpectrumDocument at 0x2202b122908>,\n",
       "  <spec2vec.SpectrumDocument.SpectrumDocument at 0x22037b1d048>,\n",
       "  -0.06280823631067946)]"
      ]
     },
     "execution_count": 44,
     "metadata": {},
     "output_type": "execute_result"
    }
   ],
   "source": [
    "sorted_by_score"
   ]
  }
 ],
 "metadata": {
  "kernelspec": {
   "display_name": "Python 3",
   "language": "python",
   "name": "python3"
  },
  "language_info": {
   "codemirror_mode": {
    "name": "ipython",
    "version": 3
   },
   "file_extension": ".py",
   "mimetype": "text/x-python",
   "name": "python",
   "nbconvert_exporter": "python",
   "pygments_lexer": "ipython3",
   "version": "3.7.6"
  }
 },
 "nbformat": 4,
 "nbformat_minor": 4
}
